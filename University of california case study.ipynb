{
 "cells": [
  {
   "cell_type": "code",
   "execution_count": 2,
   "metadata": {},
   "outputs": [],
   "source": [
    "import pandas as pd\n",
    "import matplotlib.pyplot as plt"
   ]
  },
  {
   "cell_type": "code",
   "execution_count": 99,
   "metadata": {},
   "outputs": [],
   "source": [
    "math_score = pd.read_csv('dataset/MathScoreTerm1.csv')"
   ]
  },
  {
   "cell_type": "code",
   "execution_count": 85,
   "metadata": {},
   "outputs": [],
   "source": [
    "physics_score = pd.read_csv('dataset/PhysicsScoreTerm1.csv')"
   ]
  },
  {
   "cell_type": "code",
   "execution_count": 86,
   "metadata": {},
   "outputs": [],
   "source": [
    "ds_score = pd.read_csv('dataset/DSScoreTerm1.csv')"
   ]
  },
  {
   "cell_type": "code",
   "execution_count": 52,
   "metadata": {},
   "outputs": [
    {
     "data": {
      "text/html": [
       "<div>\n",
       "<style scoped>\n",
       "    .dataframe tbody tr th:only-of-type {\n",
       "        vertical-align: middle;\n",
       "    }\n",
       "\n",
       "    .dataframe tbody tr th {\n",
       "        vertical-align: top;\n",
       "    }\n",
       "\n",
       "    .dataframe thead th {\n",
       "        text-align: right;\n",
       "    }\n",
       "</style>\n",
       "<table border=\"1\" class=\"dataframe\">\n",
       "  <thead>\n",
       "    <tr style=\"text-align: right;\">\n",
       "      <th></th>\n",
       "      <th>Name</th>\n",
       "      <th>Score</th>\n",
       "      <th>Age</th>\n",
       "      <th>Ethinicity</th>\n",
       "      <th>Subject</th>\n",
       "      <th>Sex</th>\n",
       "      <th>ID</th>\n",
       "    </tr>\n",
       "  </thead>\n",
       "  <tbody>\n",
       "    <tr>\n",
       "      <th>0</th>\n",
       "      <td>AI-KYUNG CHUNG</td>\n",
       "      <td>88.0</td>\n",
       "      <td>18</td>\n",
       "      <td>White American</td>\n",
       "      <td>Maths</td>\n",
       "      <td>M</td>\n",
       "      <td>1</td>\n",
       "    </tr>\n",
       "    <tr>\n",
       "      <th>1</th>\n",
       "      <td>ALAN HARVEY</td>\n",
       "      <td>85.0</td>\n",
       "      <td>19</td>\n",
       "      <td>European American</td>\n",
       "      <td>Maths</td>\n",
       "      <td>M</td>\n",
       "      <td>2</td>\n",
       "    </tr>\n",
       "    <tr>\n",
       "      <th>2</th>\n",
       "      <td>ALAN REYNAUD</td>\n",
       "      <td>45.0</td>\n",
       "      <td>19</td>\n",
       "      <td>European American</td>\n",
       "      <td>Maths</td>\n",
       "      <td>M</td>\n",
       "      <td>3</td>\n",
       "    </tr>\n",
       "    <tr>\n",
       "      <th>3</th>\n",
       "      <td>ALBERT CENDANA</td>\n",
       "      <td>82.0</td>\n",
       "      <td>18</td>\n",
       "      <td>White American</td>\n",
       "      <td>Maths</td>\n",
       "      <td>M</td>\n",
       "      <td>4</td>\n",
       "    </tr>\n",
       "    <tr>\n",
       "      <th>4</th>\n",
       "      <td>ALBERT HOLT JR</td>\n",
       "      <td>82.0</td>\n",
       "      <td>18</td>\n",
       "      <td>White American</td>\n",
       "      <td>Maths</td>\n",
       "      <td>F</td>\n",
       "      <td>5</td>\n",
       "    </tr>\n",
       "    <tr>\n",
       "      <th>...</th>\n",
       "      <td>...</td>\n",
       "      <td>...</td>\n",
       "      <td>...</td>\n",
       "      <td>...</td>\n",
       "      <td>...</td>\n",
       "      <td>...</td>\n",
       "      <td>...</td>\n",
       "    </tr>\n",
       "    <tr>\n",
       "      <th>594</th>\n",
       "      <td>WING NG</td>\n",
       "      <td>45.0</td>\n",
       "      <td>19</td>\n",
       "      <td>White American</td>\n",
       "      <td>Maths</td>\n",
       "      <td>F</td>\n",
       "      <td>595</td>\n",
       "    </tr>\n",
       "    <tr>\n",
       "      <th>595</th>\n",
       "      <td>YIFANG QIAN</td>\n",
       "      <td>75.0</td>\n",
       "      <td>18</td>\n",
       "      <td>White American</td>\n",
       "      <td>Maths</td>\n",
       "      <td>M</td>\n",
       "      <td>596</td>\n",
       "    </tr>\n",
       "    <tr>\n",
       "      <th>596</th>\n",
       "      <td>ZACHARY PUMPHREY</td>\n",
       "      <td>53.0</td>\n",
       "      <td>20</td>\n",
       "      <td>White American</td>\n",
       "      <td>Maths</td>\n",
       "      <td>M</td>\n",
       "      <td>597</td>\n",
       "    </tr>\n",
       "    <tr>\n",
       "      <th>597</th>\n",
       "      <td>ZEBA IMAN NAZEERI-SIMMONS</td>\n",
       "      <td>75.0</td>\n",
       "      <td>20</td>\n",
       "      <td>Hispanic</td>\n",
       "      <td>Maths</td>\n",
       "      <td>M</td>\n",
       "      <td>598</td>\n",
       "    </tr>\n",
       "    <tr>\n",
       "      <th>598</th>\n",
       "      <td>ZHI JIAR ZHUANG</td>\n",
       "      <td>88.0</td>\n",
       "      <td>19</td>\n",
       "      <td>Hispanic</td>\n",
       "      <td>Maths</td>\n",
       "      <td>M</td>\n",
       "      <td>599</td>\n",
       "    </tr>\n",
       "  </tbody>\n",
       "</table>\n",
       "<p>599 rows × 7 columns</p>\n",
       "</div>"
      ],
      "text/plain": [
       "                          Name  Score  Age         Ethinicity Subject Sex   ID\n",
       "0               AI-KYUNG CHUNG   88.0   18     White American   Maths   M    1\n",
       "1                  ALAN HARVEY   85.0   19  European American   Maths   M    2\n",
       "2                 ALAN REYNAUD   45.0   19  European American   Maths   M    3\n",
       "3               ALBERT CENDANA   82.0   18     White American   Maths   M    4\n",
       "4               ALBERT HOLT JR   82.0   18     White American   Maths   F    5\n",
       "..                         ...    ...  ...                ...     ...  ..  ...\n",
       "594                    WING NG   45.0   19     White American   Maths   F  595\n",
       "595                YIFANG QIAN   75.0   18     White American   Maths   M  596\n",
       "596           ZACHARY PUMPHREY   53.0   20     White American   Maths   M  597\n",
       "597  ZEBA IMAN NAZEERI-SIMMONS   75.0   20           Hispanic   Maths   M  598\n",
       "598            ZHI JIAR ZHUANG   88.0   19           Hispanic   Maths   M  599\n",
       "\n",
       "[599 rows x 7 columns]"
      ]
     },
     "execution_count": 52,
     "metadata": {},
     "output_type": "execute_result"
    }
   ],
   "source": [
    "math_score"
   ]
  },
  {
   "cell_type": "code",
   "execution_count": 53,
   "metadata": {},
   "outputs": [
    {
     "data": {
      "text/html": [
       "<div>\n",
       "<style scoped>\n",
       "    .dataframe tbody tr th:only-of-type {\n",
       "        vertical-align: middle;\n",
       "    }\n",
       "\n",
       "    .dataframe tbody tr th {\n",
       "        vertical-align: top;\n",
       "    }\n",
       "\n",
       "    .dataframe thead th {\n",
       "        text-align: right;\n",
       "    }\n",
       "</style>\n",
       "<table border=\"1\" class=\"dataframe\">\n",
       "  <thead>\n",
       "    <tr style=\"text-align: right;\">\n",
       "      <th></th>\n",
       "      <th>Score</th>\n",
       "      <th>Age</th>\n",
       "      <th>ID</th>\n",
       "    </tr>\n",
       "  </thead>\n",
       "  <tbody>\n",
       "    <tr>\n",
       "      <th>count</th>\n",
       "      <td>596.000000</td>\n",
       "      <td>599.000000</td>\n",
       "      <td>599.000000</td>\n",
       "    </tr>\n",
       "    <tr>\n",
       "      <th>mean</th>\n",
       "      <td>74.348993</td>\n",
       "      <td>19.121870</td>\n",
       "      <td>300.000000</td>\n",
       "    </tr>\n",
       "    <tr>\n",
       "      <th>std</th>\n",
       "      <td>16.217918</td>\n",
       "      <td>1.052234</td>\n",
       "      <td>173.060683</td>\n",
       "    </tr>\n",
       "    <tr>\n",
       "      <th>min</th>\n",
       "      <td>31.000000</td>\n",
       "      <td>18.000000</td>\n",
       "      <td>1.000000</td>\n",
       "    </tr>\n",
       "    <tr>\n",
       "      <th>25%</th>\n",
       "      <td>65.000000</td>\n",
       "      <td>18.000000</td>\n",
       "      <td>150.500000</td>\n",
       "    </tr>\n",
       "    <tr>\n",
       "      <th>50%</th>\n",
       "      <td>78.500000</td>\n",
       "      <td>19.000000</td>\n",
       "      <td>300.000000</td>\n",
       "    </tr>\n",
       "    <tr>\n",
       "      <th>75%</th>\n",
       "      <td>88.000000</td>\n",
       "      <td>20.000000</td>\n",
       "      <td>449.500000</td>\n",
       "    </tr>\n",
       "    <tr>\n",
       "      <th>max</th>\n",
       "      <td>95.000000</td>\n",
       "      <td>21.000000</td>\n",
       "      <td>599.000000</td>\n",
       "    </tr>\n",
       "  </tbody>\n",
       "</table>\n",
       "</div>"
      ],
      "text/plain": [
       "            Score         Age          ID\n",
       "count  596.000000  599.000000  599.000000\n",
       "mean    74.348993   19.121870  300.000000\n",
       "std     16.217918    1.052234  173.060683\n",
       "min     31.000000   18.000000    1.000000\n",
       "25%     65.000000   18.000000  150.500000\n",
       "50%     78.500000   19.000000  300.000000\n",
       "75%     88.000000   20.000000  449.500000\n",
       "max     95.000000   21.000000  599.000000"
      ]
     },
     "execution_count": 53,
     "metadata": {},
     "output_type": "execute_result"
    }
   ],
   "source": [
    "math_score.describe()"
   ]
  },
  {
   "cell_type": "code",
   "execution_count": 54,
   "metadata": {},
   "outputs": [
    {
     "name": "stdout",
     "output_type": "stream",
     "text": [
      "<class 'pandas.core.frame.DataFrame'>\n",
      "RangeIndex: 599 entries, 0 to 598\n",
      "Data columns (total 7 columns):\n",
      " #   Column      Non-Null Count  Dtype  \n",
      "---  ------      --------------  -----  \n",
      " 0   Name        599 non-null    object \n",
      " 1   Score       596 non-null    float64\n",
      " 2   Age         599 non-null    int64  \n",
      " 3   Ethinicity  599 non-null    object \n",
      " 4   Subject     599 non-null    object \n",
      " 5   Sex         599 non-null    object \n",
      " 6   ID          599 non-null    int64  \n",
      "dtypes: float64(1), int64(2), object(4)\n",
      "memory usage: 32.9+ KB\n"
     ]
    },
    {
     "data": {
      "text/plain": [
       "(599, 7)"
      ]
     },
     "execution_count": 54,
     "metadata": {},
     "output_type": "execute_result"
    }
   ],
   "source": [
    "math_score.info()\n",
    "math_score.shape"
   ]
  },
  {
   "cell_type": "code",
   "execution_count": 100,
   "metadata": {},
   "outputs": [],
   "source": [
    "math_score['Score'] = math_score['Score'].fillna(math_score['Score'].mean())"
   ]
  },
  {
   "cell_type": "code",
   "execution_count": 56,
   "metadata": {},
   "outputs": [
    {
     "name": "stdout",
     "output_type": "stream",
     "text": [
      "<class 'pandas.core.frame.DataFrame'>\n",
      "RangeIndex: 599 entries, 0 to 598\n",
      "Data columns (total 7 columns):\n",
      " #   Column      Non-Null Count  Dtype  \n",
      "---  ------      --------------  -----  \n",
      " 0   Name        599 non-null    object \n",
      " 1   Score       599 non-null    float64\n",
      " 2   Age         599 non-null    int64  \n",
      " 3   Ethinicity  599 non-null    object \n",
      " 4   Subject     599 non-null    object \n",
      " 5   Sex         599 non-null    object \n",
      " 6   ID          599 non-null    int64  \n",
      "dtypes: float64(1), int64(2), object(4)\n",
      "memory usage: 32.9+ KB\n"
     ]
    }
   ],
   "source": [
    "math_score.info()"
   ]
  },
  {
   "cell_type": "code",
   "execution_count": 68,
   "metadata": {},
   "outputs": [
    {
     "data": {
      "text/html": [
       "<div>\n",
       "<style scoped>\n",
       "    .dataframe tbody tr th:only-of-type {\n",
       "        vertical-align: middle;\n",
       "    }\n",
       "\n",
       "    .dataframe tbody tr th {\n",
       "        vertical-align: top;\n",
       "    }\n",
       "\n",
       "    .dataframe thead th {\n",
       "        text-align: right;\n",
       "    }\n",
       "</style>\n",
       "<table border=\"1\" class=\"dataframe\">\n",
       "  <thead>\n",
       "    <tr style=\"text-align: right;\">\n",
       "      <th></th>\n",
       "      <th>Name</th>\n",
       "      <th>Score</th>\n",
       "      <th>Age</th>\n",
       "      <th>Ethinicity</th>\n",
       "      <th>Subject</th>\n",
       "      <th>Sex</th>\n",
       "      <th>ID</th>\n",
       "    </tr>\n",
       "  </thead>\n",
       "  <tbody>\n",
       "    <tr>\n",
       "      <th>0</th>\n",
       "      <td>AI-KYUNG CHUNG</td>\n",
       "      <td>84.0</td>\n",
       "      <td>18</td>\n",
       "      <td>White American</td>\n",
       "      <td>Physics</td>\n",
       "      <td>M</td>\n",
       "      <td>1</td>\n",
       "    </tr>\n",
       "    <tr>\n",
       "      <th>1</th>\n",
       "      <td>ALAN HARVEY</td>\n",
       "      <td>81.0</td>\n",
       "      <td>19</td>\n",
       "      <td>European American</td>\n",
       "      <td>Physics</td>\n",
       "      <td>M</td>\n",
       "      <td>2</td>\n",
       "    </tr>\n",
       "    <tr>\n",
       "      <th>2</th>\n",
       "      <td>ALAN REYNAUD</td>\n",
       "      <td>41.0</td>\n",
       "      <td>19</td>\n",
       "      <td>European American</td>\n",
       "      <td>Physics</td>\n",
       "      <td>M</td>\n",
       "      <td>3</td>\n",
       "    </tr>\n",
       "    <tr>\n",
       "      <th>3</th>\n",
       "      <td>ALBERT CENDANA</td>\n",
       "      <td>78.0</td>\n",
       "      <td>18</td>\n",
       "      <td>White American</td>\n",
       "      <td>Physics</td>\n",
       "      <td>M</td>\n",
       "      <td>4</td>\n",
       "    </tr>\n",
       "    <tr>\n",
       "      <th>4</th>\n",
       "      <td>ALBERT HOLT JR</td>\n",
       "      <td>78.0</td>\n",
       "      <td>18</td>\n",
       "      <td>White American</td>\n",
       "      <td>Physics</td>\n",
       "      <td>F</td>\n",
       "      <td>5</td>\n",
       "    </tr>\n",
       "    <tr>\n",
       "      <th>...</th>\n",
       "      <td>...</td>\n",
       "      <td>...</td>\n",
       "      <td>...</td>\n",
       "      <td>...</td>\n",
       "      <td>...</td>\n",
       "      <td>...</td>\n",
       "      <td>...</td>\n",
       "    </tr>\n",
       "    <tr>\n",
       "      <th>594</th>\n",
       "      <td>WING NG</td>\n",
       "      <td>41.0</td>\n",
       "      <td>19</td>\n",
       "      <td>White American</td>\n",
       "      <td>Physics</td>\n",
       "      <td>F</td>\n",
       "      <td>595</td>\n",
       "    </tr>\n",
       "    <tr>\n",
       "      <th>595</th>\n",
       "      <td>YIFANG QIAN</td>\n",
       "      <td>71.0</td>\n",
       "      <td>18</td>\n",
       "      <td>White American</td>\n",
       "      <td>Physics</td>\n",
       "      <td>M</td>\n",
       "      <td>596</td>\n",
       "    </tr>\n",
       "    <tr>\n",
       "      <th>596</th>\n",
       "      <td>ZACHARY PUMPHREY</td>\n",
       "      <td>49.0</td>\n",
       "      <td>20</td>\n",
       "      <td>White American</td>\n",
       "      <td>Physics</td>\n",
       "      <td>M</td>\n",
       "      <td>597</td>\n",
       "    </tr>\n",
       "    <tr>\n",
       "      <th>597</th>\n",
       "      <td>ZEBA IMAN NAZEERI-SIMMONS</td>\n",
       "      <td>71.0</td>\n",
       "      <td>20</td>\n",
       "      <td>Hispanic</td>\n",
       "      <td>Physics</td>\n",
       "      <td>M</td>\n",
       "      <td>598</td>\n",
       "    </tr>\n",
       "    <tr>\n",
       "      <th>598</th>\n",
       "      <td>ZHI JIAR ZHUANG</td>\n",
       "      <td>69.0</td>\n",
       "      <td>19</td>\n",
       "      <td>Hispanic</td>\n",
       "      <td>Physics</td>\n",
       "      <td>M</td>\n",
       "      <td>599</td>\n",
       "    </tr>\n",
       "  </tbody>\n",
       "</table>\n",
       "<p>599 rows × 7 columns</p>\n",
       "</div>"
      ],
      "text/plain": [
       "                          Name  Score  Age         Ethinicity  Subject Sex  \\\n",
       "0               AI-KYUNG CHUNG   84.0   18     White American  Physics   M   \n",
       "1                  ALAN HARVEY   81.0   19  European American  Physics   M   \n",
       "2                 ALAN REYNAUD   41.0   19  European American  Physics   M   \n",
       "3               ALBERT CENDANA   78.0   18     White American  Physics   M   \n",
       "4               ALBERT HOLT JR   78.0   18     White American  Physics   F   \n",
       "..                         ...    ...  ...                ...      ...  ..   \n",
       "594                    WING NG   41.0   19     White American  Physics   F   \n",
       "595                YIFANG QIAN   71.0   18     White American  Physics   M   \n",
       "596           ZACHARY PUMPHREY   49.0   20     White American  Physics   M   \n",
       "597  ZEBA IMAN NAZEERI-SIMMONS   71.0   20           Hispanic  Physics   M   \n",
       "598            ZHI JIAR ZHUANG   69.0   19           Hispanic  Physics   M   \n",
       "\n",
       "      ID  \n",
       "0      1  \n",
       "1      2  \n",
       "2      3  \n",
       "3      4  \n",
       "4      5  \n",
       "..   ...  \n",
       "594  595  \n",
       "595  596  \n",
       "596  597  \n",
       "597  598  \n",
       "598  599  \n",
       "\n",
       "[599 rows x 7 columns]"
      ]
     },
     "execution_count": 68,
     "metadata": {},
     "output_type": "execute_result"
    }
   ],
   "source": [
    "physics_score"
   ]
  },
  {
   "cell_type": "code",
   "execution_count": 69,
   "metadata": {},
   "outputs": [
    {
     "name": "stdout",
     "output_type": "stream",
     "text": [
      "<class 'pandas.core.frame.DataFrame'>\n",
      "RangeIndex: 599 entries, 0 to 598\n",
      "Data columns (total 7 columns):\n",
      " #   Column      Non-Null Count  Dtype  \n",
      "---  ------      --------------  -----  \n",
      " 0   Name        599 non-null    object \n",
      " 1   Score       593 non-null    float64\n",
      " 2   Age         599 non-null    int64  \n",
      " 3   Ethinicity  599 non-null    object \n",
      " 4   Subject     599 non-null    object \n",
      " 5   Sex         599 non-null    object \n",
      " 6   ID          599 non-null    int64  \n",
      "dtypes: float64(1), int64(2), object(4)\n",
      "memory usage: 32.9+ KB\n"
     ]
    }
   ],
   "source": [
    "physics_score.info()"
   ]
  },
  {
   "cell_type": "code",
   "execution_count": 88,
   "metadata": {},
   "outputs": [],
   "source": [
    "physics_score['Score'] = physics_score['Score'].fillna(physics_score['Score'].mean())"
   ]
  },
  {
   "cell_type": "code",
   "execution_count": 71,
   "metadata": {},
   "outputs": [
    {
     "name": "stdout",
     "output_type": "stream",
     "text": [
      "<class 'pandas.core.frame.DataFrame'>\n",
      "RangeIndex: 599 entries, 0 to 598\n",
      "Data columns (total 7 columns):\n",
      " #   Column      Non-Null Count  Dtype  \n",
      "---  ------      --------------  -----  \n",
      " 0   Name        599 non-null    object \n",
      " 1   Score       599 non-null    float64\n",
      " 2   Age         599 non-null    int64  \n",
      " 3   Ethinicity  599 non-null    object \n",
      " 4   Subject     599 non-null    object \n",
      " 5   Sex         599 non-null    object \n",
      " 6   ID          599 non-null    int64  \n",
      "dtypes: float64(1), int64(2), object(4)\n",
      "memory usage: 32.9+ KB\n"
     ]
    }
   ],
   "source": [
    "physics_score.info()"
   ]
  },
  {
   "cell_type": "code",
   "execution_count": 61,
   "metadata": {},
   "outputs": [
    {
     "name": "stdout",
     "output_type": "stream",
     "text": [
      "<class 'pandas.core.frame.DataFrame'>\n",
      "RangeIndex: 599 entries, 0 to 598\n",
      "Data columns (total 7 columns):\n",
      " #   Column      Non-Null Count  Dtype  \n",
      "---  ------      --------------  -----  \n",
      " 0   Name        599 non-null    object \n",
      " 1   Score       591 non-null    float64\n",
      " 2   Age         599 non-null    int64  \n",
      " 3   Ethinicity  599 non-null    object \n",
      " 4   Subject     599 non-null    object \n",
      " 5   Sex         599 non-null    object \n",
      " 6   ID          599 non-null    int64  \n",
      "dtypes: float64(1), int64(2), object(4)\n",
      "memory usage: 32.9+ KB\n"
     ]
    }
   ],
   "source": [
    "ds_score.info()"
   ]
  },
  {
   "cell_type": "code",
   "execution_count": 89,
   "metadata": {},
   "outputs": [],
   "source": [
    "ds_score['Score'] = ds_score['Score'].fillna(ds_score['Score'].mean())"
   ]
  },
  {
   "cell_type": "code",
   "execution_count": 63,
   "metadata": {},
   "outputs": [
    {
     "name": "stdout",
     "output_type": "stream",
     "text": [
      "<class 'pandas.core.frame.DataFrame'>\n",
      "RangeIndex: 599 entries, 0 to 598\n",
      "Data columns (total 7 columns):\n",
      " #   Column      Non-Null Count  Dtype  \n",
      "---  ------      --------------  -----  \n",
      " 0   Name        599 non-null    object \n",
      " 1   Score       599 non-null    float64\n",
      " 2   Age         599 non-null    int64  \n",
      " 3   Ethinicity  599 non-null    object \n",
      " 4   Subject     599 non-null    object \n",
      " 5   Sex         599 non-null    object \n",
      " 6   ID          599 non-null    int64  \n",
      "dtypes: float64(1), int64(2), object(4)\n",
      "memory usage: 32.9+ KB\n"
     ]
    }
   ],
   "source": [
    "ds_score.info()"
   ]
  },
  {
   "cell_type": "code",
   "execution_count": 101,
   "metadata": {},
   "outputs": [],
   "source": [
    "math_score = math_score.iloc[:,[1,2,4,5]]\n",
    "physics_score = physics_score.iloc[:,[1,2,4,5]]\n",
    "ds_score = ds_score.iloc[:,[1,2,4,5]]"
   ]
  },
  {
   "cell_type": "code",
   "execution_count": 92,
   "metadata": {},
   "outputs": [
    {
     "data": {
      "text/html": [
       "<div>\n",
       "<style scoped>\n",
       "    .dataframe tbody tr th:only-of-type {\n",
       "        vertical-align: middle;\n",
       "    }\n",
       "\n",
       "    .dataframe tbody tr th {\n",
       "        vertical-align: top;\n",
       "    }\n",
       "\n",
       "    .dataframe thead th {\n",
       "        text-align: right;\n",
       "    }\n",
       "</style>\n",
       "<table border=\"1\" class=\"dataframe\">\n",
       "  <thead>\n",
       "    <tr style=\"text-align: right;\">\n",
       "      <th></th>\n",
       "      <th>Score</th>\n",
       "      <th>Age</th>\n",
       "      <th>Subject</th>\n",
       "      <th>Sex</th>\n",
       "    </tr>\n",
       "  </thead>\n",
       "  <tbody>\n",
       "    <tr>\n",
       "      <th>0</th>\n",
       "      <td>88.0</td>\n",
       "      <td>18</td>\n",
       "      <td>Maths</td>\n",
       "      <td>M</td>\n",
       "    </tr>\n",
       "    <tr>\n",
       "      <th>1</th>\n",
       "      <td>85.0</td>\n",
       "      <td>19</td>\n",
       "      <td>Maths</td>\n",
       "      <td>M</td>\n",
       "    </tr>\n",
       "    <tr>\n",
       "      <th>2</th>\n",
       "      <td>45.0</td>\n",
       "      <td>19</td>\n",
       "      <td>Maths</td>\n",
       "      <td>M</td>\n",
       "    </tr>\n",
       "    <tr>\n",
       "      <th>3</th>\n",
       "      <td>82.0</td>\n",
       "      <td>18</td>\n",
       "      <td>Maths</td>\n",
       "      <td>M</td>\n",
       "    </tr>\n",
       "    <tr>\n",
       "      <th>4</th>\n",
       "      <td>82.0</td>\n",
       "      <td>18</td>\n",
       "      <td>Maths</td>\n",
       "      <td>F</td>\n",
       "    </tr>\n",
       "    <tr>\n",
       "      <th>...</th>\n",
       "      <td>...</td>\n",
       "      <td>...</td>\n",
       "      <td>...</td>\n",
       "      <td>...</td>\n",
       "    </tr>\n",
       "    <tr>\n",
       "      <th>594</th>\n",
       "      <td>45.0</td>\n",
       "      <td>19</td>\n",
       "      <td>Maths</td>\n",
       "      <td>F</td>\n",
       "    </tr>\n",
       "    <tr>\n",
       "      <th>595</th>\n",
       "      <td>75.0</td>\n",
       "      <td>18</td>\n",
       "      <td>Maths</td>\n",
       "      <td>M</td>\n",
       "    </tr>\n",
       "    <tr>\n",
       "      <th>596</th>\n",
       "      <td>53.0</td>\n",
       "      <td>20</td>\n",
       "      <td>Maths</td>\n",
       "      <td>M</td>\n",
       "    </tr>\n",
       "    <tr>\n",
       "      <th>597</th>\n",
       "      <td>75.0</td>\n",
       "      <td>20</td>\n",
       "      <td>Maths</td>\n",
       "      <td>M</td>\n",
       "    </tr>\n",
       "    <tr>\n",
       "      <th>598</th>\n",
       "      <td>88.0</td>\n",
       "      <td>19</td>\n",
       "      <td>Maths</td>\n",
       "      <td>M</td>\n",
       "    </tr>\n",
       "  </tbody>\n",
       "</table>\n",
       "<p>599 rows × 4 columns</p>\n",
       "</div>"
      ],
      "text/plain": [
       "     Score  Age Subject Sex\n",
       "0     88.0   18   Maths   M\n",
       "1     85.0   19   Maths   M\n",
       "2     45.0   19   Maths   M\n",
       "3     82.0   18   Maths   M\n",
       "4     82.0   18   Maths   F\n",
       "..     ...  ...     ...  ..\n",
       "594   45.0   19   Maths   F\n",
       "595   75.0   18   Maths   M\n",
       "596   53.0   20   Maths   M\n",
       "597   75.0   20   Maths   M\n",
       "598   88.0   19   Maths   M\n",
       "\n",
       "[599 rows x 4 columns]"
      ]
     },
     "execution_count": 92,
     "metadata": {},
     "output_type": "execute_result"
    }
   ],
   "source": [
    "math_score"
   ]
  },
  {
   "cell_type": "raw",
   "metadata": {},
   "source": [
    "print(physics_score)\n",
    "physics_score.info()"
   ]
  },
  {
   "cell_type": "code",
   "execution_count": 93,
   "metadata": {},
   "outputs": [
    {
     "data": {
      "text/html": [
       "<div>\n",
       "<style scoped>\n",
       "    .dataframe tbody tr th:only-of-type {\n",
       "        vertical-align: middle;\n",
       "    }\n",
       "\n",
       "    .dataframe tbody tr th {\n",
       "        vertical-align: top;\n",
       "    }\n",
       "\n",
       "    .dataframe thead th {\n",
       "        text-align: right;\n",
       "    }\n",
       "</style>\n",
       "<table border=\"1\" class=\"dataframe\">\n",
       "  <thead>\n",
       "    <tr style=\"text-align: right;\">\n",
       "      <th></th>\n",
       "      <th>Score</th>\n",
       "      <th>Age</th>\n",
       "      <th>Subject</th>\n",
       "      <th>Sex</th>\n",
       "    </tr>\n",
       "  </thead>\n",
       "  <tbody>\n",
       "    <tr>\n",
       "      <th>0</th>\n",
       "      <td>82.000000</td>\n",
       "      <td>18</td>\n",
       "      <td>Data Structue</td>\n",
       "      <td>M</td>\n",
       "    </tr>\n",
       "    <tr>\n",
       "      <th>1</th>\n",
       "      <td>79.000000</td>\n",
       "      <td>19</td>\n",
       "      <td>Data Structue</td>\n",
       "      <td>M</td>\n",
       "    </tr>\n",
       "    <tr>\n",
       "      <th>2</th>\n",
       "      <td>39.000000</td>\n",
       "      <td>19</td>\n",
       "      <td>Data Structue</td>\n",
       "      <td>M</td>\n",
       "    </tr>\n",
       "    <tr>\n",
       "      <th>3</th>\n",
       "      <td>76.000000</td>\n",
       "      <td>18</td>\n",
       "      <td>Data Structue</td>\n",
       "      <td>M</td>\n",
       "    </tr>\n",
       "    <tr>\n",
       "      <th>4</th>\n",
       "      <td>76.000000</td>\n",
       "      <td>18</td>\n",
       "      <td>Data Structue</td>\n",
       "      <td>F</td>\n",
       "    </tr>\n",
       "    <tr>\n",
       "      <th>...</th>\n",
       "      <td>...</td>\n",
       "      <td>...</td>\n",
       "      <td>...</td>\n",
       "      <td>...</td>\n",
       "    </tr>\n",
       "    <tr>\n",
       "      <th>594</th>\n",
       "      <td>39.000000</td>\n",
       "      <td>19</td>\n",
       "      <td>Data Structue</td>\n",
       "      <td>F</td>\n",
       "    </tr>\n",
       "    <tr>\n",
       "      <th>595</th>\n",
       "      <td>69.000000</td>\n",
       "      <td>18</td>\n",
       "      <td>Data Structue</td>\n",
       "      <td>M</td>\n",
       "    </tr>\n",
       "    <tr>\n",
       "      <th>596</th>\n",
       "      <td>47.000000</td>\n",
       "      <td>20</td>\n",
       "      <td>Data Structue</td>\n",
       "      <td>M</td>\n",
       "    </tr>\n",
       "    <tr>\n",
       "      <th>597</th>\n",
       "      <td>69.000000</td>\n",
       "      <td>20</td>\n",
       "      <td>Data Structue</td>\n",
       "      <td>M</td>\n",
       "    </tr>\n",
       "    <tr>\n",
       "      <th>598</th>\n",
       "      <td>68.367174</td>\n",
       "      <td>19</td>\n",
       "      <td>Data Structue</td>\n",
       "      <td>M</td>\n",
       "    </tr>\n",
       "  </tbody>\n",
       "</table>\n",
       "<p>599 rows × 4 columns</p>\n",
       "</div>"
      ],
      "text/plain": [
       "         Score  Age        Subject Sex\n",
       "0    82.000000   18  Data Structue   M\n",
       "1    79.000000   19  Data Structue   M\n",
       "2    39.000000   19  Data Structue   M\n",
       "3    76.000000   18  Data Structue   M\n",
       "4    76.000000   18  Data Structue   F\n",
       "..         ...  ...            ...  ..\n",
       "594  39.000000   19  Data Structue   F\n",
       "595  69.000000   18  Data Structue   M\n",
       "596  47.000000   20  Data Structue   M\n",
       "597  69.000000   20  Data Structue   M\n",
       "598  68.367174   19  Data Structue   M\n",
       "\n",
       "[599 rows x 4 columns]"
      ]
     },
     "execution_count": 93,
     "metadata": {},
     "output_type": "execute_result"
    }
   ],
   "source": [
    "ds_score"
   ]
  },
  {
   "cell_type": "code",
   "execution_count": 72,
   "metadata": {},
   "outputs": [],
   "source": [
    "import seaborn as sns"
   ]
  },
  {
   "cell_type": "code",
   "execution_count": 77,
   "metadata": {},
   "outputs": [],
   "source": [
    "corr = math_score.corr()"
   ]
  },
  {
   "cell_type": "code",
   "execution_count": 104,
   "metadata": {},
   "outputs": [
    {
     "data": {
      "text/html": [
       "<div>\n",
       "<style scoped>\n",
       "    .dataframe tbody tr th:only-of-type {\n",
       "        vertical-align: middle;\n",
       "    }\n",
       "\n",
       "    .dataframe tbody tr th {\n",
       "        vertical-align: top;\n",
       "    }\n",
       "\n",
       "    .dataframe thead th {\n",
       "        text-align: right;\n",
       "    }\n",
       "</style>\n",
       "<table border=\"1\" class=\"dataframe\">\n",
       "  <thead>\n",
       "    <tr style=\"text-align: right;\">\n",
       "      <th></th>\n",
       "      <th>Score</th>\n",
       "      <th>Age</th>\n",
       "    </tr>\n",
       "  </thead>\n",
       "  <tbody>\n",
       "    <tr>\n",
       "      <th>Score</th>\n",
       "      <td>1.000000</td>\n",
       "      <td>-0.025093</td>\n",
       "    </tr>\n",
       "    <tr>\n",
       "      <th>Age</th>\n",
       "      <td>-0.025093</td>\n",
       "      <td>1.000000</td>\n",
       "    </tr>\n",
       "  </tbody>\n",
       "</table>\n",
       "</div>"
      ],
      "text/plain": [
       "          Score       Age\n",
       "Score  1.000000 -0.025093\n",
       "Age   -0.025093  1.000000"
      ]
     },
     "execution_count": 104,
     "metadata": {},
     "output_type": "execute_result"
    }
   ],
   "source": [
    "corr"
   ]
  },
  {
   "cell_type": "code",
   "execution_count": 95,
   "metadata": {},
   "outputs": [],
   "source": [
    "from sklearn.preprocessing import LabelEncoder"
   ]
  },
  {
   "cell_type": "code",
   "execution_count": 96,
   "metadata": {},
   "outputs": [],
   "source": [
    "le = LabelEncoder()"
   ]
  },
  {
   "cell_type": "code",
   "execution_count": 102,
   "metadata": {},
   "outputs": [],
   "source": [
    "math_score['Sex'] = le.fit_transform(math_score['Sex'])"
   ]
  },
  {
   "cell_type": "code",
   "execution_count": 107,
   "metadata": {},
   "outputs": [
    {
     "data": {
      "text/html": [
       "<div>\n",
       "<style scoped>\n",
       "    .dataframe tbody tr th:only-of-type {\n",
       "        vertical-align: middle;\n",
       "    }\n",
       "\n",
       "    .dataframe tbody tr th {\n",
       "        vertical-align: top;\n",
       "    }\n",
       "\n",
       "    .dataframe thead th {\n",
       "        text-align: right;\n",
       "    }\n",
       "</style>\n",
       "<table border=\"1\" class=\"dataframe\">\n",
       "  <thead>\n",
       "    <tr style=\"text-align: right;\">\n",
       "      <th></th>\n",
       "      <th>Score</th>\n",
       "      <th>Age</th>\n",
       "      <th>Subject</th>\n",
       "      <th>Sex</th>\n",
       "    </tr>\n",
       "  </thead>\n",
       "  <tbody>\n",
       "    <tr>\n",
       "      <th>0</th>\n",
       "      <td>88.0</td>\n",
       "      <td>18</td>\n",
       "      <td>Maths</td>\n",
       "      <td>1</td>\n",
       "    </tr>\n",
       "    <tr>\n",
       "      <th>1</th>\n",
       "      <td>85.0</td>\n",
       "      <td>19</td>\n",
       "      <td>Maths</td>\n",
       "      <td>1</td>\n",
       "    </tr>\n",
       "    <tr>\n",
       "      <th>2</th>\n",
       "      <td>45.0</td>\n",
       "      <td>19</td>\n",
       "      <td>Maths</td>\n",
       "      <td>1</td>\n",
       "    </tr>\n",
       "    <tr>\n",
       "      <th>3</th>\n",
       "      <td>82.0</td>\n",
       "      <td>18</td>\n",
       "      <td>Maths</td>\n",
       "      <td>1</td>\n",
       "    </tr>\n",
       "    <tr>\n",
       "      <th>4</th>\n",
       "      <td>82.0</td>\n",
       "      <td>18</td>\n",
       "      <td>Maths</td>\n",
       "      <td>0</td>\n",
       "    </tr>\n",
       "    <tr>\n",
       "      <th>...</th>\n",
       "      <td>...</td>\n",
       "      <td>...</td>\n",
       "      <td>...</td>\n",
       "      <td>...</td>\n",
       "    </tr>\n",
       "    <tr>\n",
       "      <th>594</th>\n",
       "      <td>45.0</td>\n",
       "      <td>19</td>\n",
       "      <td>Maths</td>\n",
       "      <td>0</td>\n",
       "    </tr>\n",
       "    <tr>\n",
       "      <th>595</th>\n",
       "      <td>75.0</td>\n",
       "      <td>18</td>\n",
       "      <td>Maths</td>\n",
       "      <td>1</td>\n",
       "    </tr>\n",
       "    <tr>\n",
       "      <th>596</th>\n",
       "      <td>53.0</td>\n",
       "      <td>20</td>\n",
       "      <td>Maths</td>\n",
       "      <td>1</td>\n",
       "    </tr>\n",
       "    <tr>\n",
       "      <th>597</th>\n",
       "      <td>75.0</td>\n",
       "      <td>20</td>\n",
       "      <td>Maths</td>\n",
       "      <td>1</td>\n",
       "    </tr>\n",
       "    <tr>\n",
       "      <th>598</th>\n",
       "      <td>88.0</td>\n",
       "      <td>19</td>\n",
       "      <td>Maths</td>\n",
       "      <td>1</td>\n",
       "    </tr>\n",
       "  </tbody>\n",
       "</table>\n",
       "<p>599 rows × 4 columns</p>\n",
       "</div>"
      ],
      "text/plain": [
       "     Score  Age Subject  Sex\n",
       "0     88.0   18   Maths    1\n",
       "1     85.0   19   Maths    1\n",
       "2     45.0   19   Maths    1\n",
       "3     82.0   18   Maths    1\n",
       "4     82.0   18   Maths    0\n",
       "..     ...  ...     ...  ...\n",
       "594   45.0   19   Maths    0\n",
       "595   75.0   18   Maths    1\n",
       "596   53.0   20   Maths    1\n",
       "597   75.0   20   Maths    1\n",
       "598   88.0   19   Maths    1\n",
       "\n",
       "[599 rows x 4 columns]"
      ]
     },
     "execution_count": 107,
     "metadata": {},
     "output_type": "execute_result"
    }
   ],
   "source": [
    "math_score"
   ]
  },
  {
   "cell_type": "code",
   "execution_count": 105,
   "metadata": {},
   "outputs": [],
   "source": [
    "corr1 = math_score.corr()"
   ]
  },
  {
   "cell_type": "code",
   "execution_count": 106,
   "metadata": {},
   "outputs": [
    {
     "data": {
      "text/html": [
       "<div>\n",
       "<style scoped>\n",
       "    .dataframe tbody tr th:only-of-type {\n",
       "        vertical-align: middle;\n",
       "    }\n",
       "\n",
       "    .dataframe tbody tr th {\n",
       "        vertical-align: top;\n",
       "    }\n",
       "\n",
       "    .dataframe thead th {\n",
       "        text-align: right;\n",
       "    }\n",
       "</style>\n",
       "<table border=\"1\" class=\"dataframe\">\n",
       "  <thead>\n",
       "    <tr style=\"text-align: right;\">\n",
       "      <th></th>\n",
       "      <th>Score</th>\n",
       "      <th>Age</th>\n",
       "      <th>Sex</th>\n",
       "    </tr>\n",
       "  </thead>\n",
       "  <tbody>\n",
       "    <tr>\n",
       "      <th>Score</th>\n",
       "      <td>1.000000</td>\n",
       "      <td>-0.025093</td>\n",
       "      <td>0.021273</td>\n",
       "    </tr>\n",
       "    <tr>\n",
       "      <th>Age</th>\n",
       "      <td>-0.025093</td>\n",
       "      <td>1.000000</td>\n",
       "      <td>-0.013919</td>\n",
       "    </tr>\n",
       "    <tr>\n",
       "      <th>Sex</th>\n",
       "      <td>0.021273</td>\n",
       "      <td>-0.013919</td>\n",
       "      <td>1.000000</td>\n",
       "    </tr>\n",
       "  </tbody>\n",
       "</table>\n",
       "</div>"
      ],
      "text/plain": [
       "          Score       Age       Sex\n",
       "Score  1.000000 -0.025093  0.021273\n",
       "Age   -0.025093  1.000000 -0.013919\n",
       "Sex    0.021273 -0.013919  1.000000"
      ]
     },
     "execution_count": 106,
     "metadata": {},
     "output_type": "execute_result"
    }
   ],
   "source": [
    "corr1"
   ]
  },
  {
   "cell_type": "code",
   "execution_count": 109,
   "metadata": {},
   "outputs": [
    {
     "data": {
      "text/plain": [
       "<matplotlib.axes._subplots.AxesSubplot at 0x7ff8d33026d0>"
      ]
     },
     "execution_count": 109,
     "metadata": {},
     "output_type": "execute_result"
    },
    {
     "data": {
      "image/png": "[encoded data removed]",
      "text/plain": [
       "<Figure size 432x288 with 2 Axes>"
      ]
     },
     "metadata": {
      "needs_background": "light"
     },
     "output_type": "display_data"
    }
   ],
   "source": [
    "sns.heatmap(corr1,annot= True)"
   ]
  },
  {
   "cell_type": "code",
   "execution_count": 117,
   "metadata": {},
   "outputs": [
    {
     "data": {
      "text/plain": [
       "Score      599\n",
       "Age        599\n",
       "Subject    599\n",
       "Sex        599\n",
       "dtype: int64"
      ]
     },
     "execution_count": 117,
     "metadata": {},
     "output_type": "execute_result"
    }
   ],
   "source": [
    "math_score.count()"
   ]
  },
  {
   "cell_type": "code",
   "execution_count": 129,
   "metadata": {},
   "outputs": [],
   "source": [
    "tot_score = math_score['Score'].groupby(math_score['Sex']).sum()"
   ]
  },
  {
   "cell_type": "code",
   "execution_count": 130,
   "metadata": {},
   "outputs": [
    {
     "data": {
      "text/plain": [
       "Sex\n",
       "0     8765.348993\n",
       "1    35769.697987\n",
       "Name: Score, dtype: float64"
      ]
     },
     "execution_count": 130,
     "metadata": {},
     "output_type": "execute_result"
    }
   ],
   "source": [
    "tot_score"
   ]
  },
  {
   "cell_type": "code",
   "execution_count": 127,
   "metadata": {},
   "outputs": [],
   "source": [
    "cnt = math_score['Sex'].groupby(math_score['Sex']).count()"
   ]
  },
  {
   "cell_type": "code",
   "execution_count": 140,
   "metadata": {},
   "outputs": [
    {
     "data": {
      "text/plain": [
       "Sex\n",
       "0    119\n",
       "1    480\n",
       "Name: Sex, dtype: int64"
      ]
     },
     "execution_count": 140,
     "metadata": {},
     "output_type": "execute_result"
    }
   ],
   "source": [
    "cnt"
   ]
  },
  {
   "cell_type": "code",
   "execution_count": 141,
   "metadata": {},
   "outputs": [
    {
     "data": {
      "text/plain": [
       "<matplotlib.axes._subplots.AxesSubplot at 0x7ff8d3a9fd00>"
      ]
     },
     "execution_count": 141,
     "metadata": {},
     "output_type": "execute_result"
    },
    {
     "data": {
      "image/png": "[encoded data removed]",
      "text/plain": [
       "<Figure size 432x288 with 1 Axes>"
      ]
     },
     "metadata": {},
     "output_type": "display_data"
    }
   ],
   "source": [
    "#figure = plt.subplots(1,2,figsize = (7,7))\n",
    "tot_score.plot.pie()\n"
   ]
  },
  {
   "cell_type": "code",
   "execution_count": 135,
   "metadata": {},
   "outputs": [
    {
     "data": {
      "text/plain": [
       "<matplotlib.axes._subplots.AxesSubplot at 0x7ff8d404b8e0>"
      ]
     },
     "execution_count": 135,
     "metadata": {},
     "output_type": "execute_result"
    },
    {
     "data": {
      "image/png": "[encoded data removed]",
      "text/plain": [
       "<Figure size 432x288 with 1 Axes>"
      ]
     },
     "metadata": {},
     "output_type": "display_data"
    }
   ],
   "source": [
    "cnt.plot.pie()"
   ]
  },
  {
   "cell_type": "code",
   "execution_count": null,
   "metadata": {},
   "outputs": [],
   "source": []
  }
 ],
 "metadata": {
  "kernelspec": {
   "display_name": "Python 3",
   "language": "python",
   "name": "python3"
  },
  "language_info": {
   "codemirror_mode": {
    "name": "ipython",
    "version": 3
   },
   "file_extension": ".py",
   "mimetype": "text/x-python",
   "name": "python",
   "nbconvert_exporter": "python",
   "pygments_lexer": "ipython3",
   "version": "3.8.3"
  }
 },
 "nbformat": 4,
 "nbformat_minor": 4
}
