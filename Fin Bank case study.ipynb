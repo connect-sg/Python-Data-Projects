{
 "cells": [
  {
   "cell_type": "markdown",
   "metadata": {},
   "source": [
    "Case Study IDomain –BankingFocus –OptimizationBusiness challenge/requirementFinBankis the latest entrant in the banking market of Thailand.  The verification process for opening a bank account is done manually by reviewing the photocopy of the approved ID card. However, they have recently introduced a system where the customers’ fingerprint will be mapped with the newly introduced Unique ID for citizens of Thailand by the government. \n",
    "\n",
    "FinBank should implement a system that verifies customers against the fingerprint and Unique Id. \n",
    "\n",
    "\n",
    "Key issues\n",
    "\n",
    "Build a system where when a user enters UniqueIDit getsencrypted so that hackers cannot view the mapping of Unique ID and fingerprint\n",
    "\n",
    "Considerations\n",
    "\n",
    "System should be secureData \n",
    "\n",
    "volume-NA\n",
    "\n",
    "Additional information-NA\n",
    "\n",
    "\n",
    "Business benefits\n",
    "\n",
    "The bank will be able to verify customers’ data quickly, and expected gain in volume is approximately ten times as the manual process of verification is replaced with the secure automated systemApproach to Solve1.\n",
    "\n",
    "\n",
    "Read the input from command line –UniqueID2.\n",
    "Check for validityof Unique ID–it should be 10digits and must containonly numbers3.\n",
    "Encrypt the UniqueID and print it \n",
    "\n",
    "\n",
    "Enhancements for code\n",
    "You can try these enhancements in code1.Allow alphabets and some special characters in Unique ID2.Providethe option for decryption to user "
   ]
  },
  {
   "cell_type": "code",
   "execution_count": 11,
   "metadata": {},
   "outputs": [
    {
     "name": "stdout",
     "output_type": "stream",
     "text": [
      "4520604198\n"
     ]
    }
   ],
   "source": [
    "import numpy as np\n",
    "uid = np.random.randint(1000000000,9999999999)\n",
    "print(uid)"
   ]
  },
  {
   "cell_type": "code",
   "execution_count": 12,
   "metadata": {},
   "outputs": [],
   "source": [
    "def verification(unique_id, fingerprint=\"done\"):\n",
    "    unique_id = str(unique_id)\n",
    "    if(unique_id.isdigit() and len(unique_id)):\n",
    "        print(\"verification completed successfully - {}\".format(uid))\n",
    "        return 0\n",
    "    else:\n",
    "        print(\"unable to verify unique_id\") \n",
    "        return 1"
   ]
  },
  {
   "cell_type": "code",
   "execution_count": 13,
   "metadata": {},
   "outputs": [
    {
     "name": "stdout",
     "output_type": "stream",
     "text": [
      "verification completed successfully - 4520604198\n"
     ]
    },
    {
     "data": {
      "text/plain": [
       "0"
      ]
     },
     "execution_count": 13,
     "metadata": {},
     "output_type": "execute_result"
    }
   ],
   "source": [
    "verification(uid)"
   ]
  },
  {
   "cell_type": "code",
   "execution_count": 14,
   "metadata": {},
   "outputs": [],
   "source": [
    "import numpy as np\n",
    "list1 =[]\n",
    "list2 =[]\n",
    "set1 = set()\n",
    "set2 =set()\n",
    "\n",
    "def encryption(unique_id):\n",
    "    unique_id =list(str(unique_id))\n",
    "    listw =[\"a\"]*10\n",
    "    #print(unique_id)\n",
    "    count =len(unique_id)\n",
    "    #print(\"count: {}\".format(count))\n",
    "    list_count =len(list1)\n",
    "    #print(\"list count: {}\".format(list_count))  \n",
    "    while(len(set1)<10 or len(set2)<10): \n",
    "       random_index1 = np.random.randint(len(unique_id)) \n",
    "       random_index2 = np.random.randint(len(unique_id))\n",
    "       set1.add(random_index1)\n",
    "       set2.add(random_index2)\n",
    "       if(random_index1 not in list1):\n",
    "        list1.append(random_index1)\n",
    "       if(random_index2 not in list2): \n",
    "        list2.append(random_index2)\n",
    "          \n",
    "    #print(list1)\n",
    "    #print(uid)\n",
    "    #print(list2)\n",
    "    \n",
    "    for i in range(10):\n",
    "     listw[list1[i]]=unique_id[list2[i]]\n",
    "    \n",
    "    #unique_id = unique_id[::-1]\n",
    "    listw = ''.join(listw)\n",
    "    listw =int(listw)\n",
    "    #print(listw)\n",
    "    return listw\n",
    "    "
   ]
  },
  {
   "cell_type": "code",
   "execution_count": 15,
   "metadata": {},
   "outputs": [],
   "source": [
    "def decryption(unique_id):\n",
    "    #unique_id =list(str(unique_id)[::-1])\n",
    "    unique_id =list(str(unique_id))\n",
    "    orig_list =[\"\"]*10\n",
    "    for i in range(len(unique_id)):\n",
    "        #print(list1[i],list2[i])\n",
    "        orig_list[list2[i]]=unique_id[list1[i]]\n",
    "    orig_uid = ''.join(orig_list)\n",
    "    \n",
    "    return orig_uid\n",
    "    "
   ]
  },
  {
   "cell_type": "code",
   "execution_count": 16,
   "metadata": {},
   "outputs": [],
   "source": [
    "encrypted = encryption(uid)"
   ]
  },
  {
   "cell_type": "code",
   "execution_count": 17,
   "metadata": {},
   "outputs": [
    {
     "data": {
      "text/plain": [
       "1594214503"
      ]
     },
     "execution_count": 17,
     "metadata": {},
     "output_type": "execute_result"
    }
   ],
   "source": [
    "unique_id"
   ]
  },
  {
   "cell_type": "code",
   "execution_count": 18,
   "metadata": {},
   "outputs": [
    {
     "data": {
      "text/plain": [
       "4520604198"
      ]
     },
     "execution_count": 18,
     "metadata": {},
     "output_type": "execute_result"
    }
   ],
   "source": [
    "uid"
   ]
  },
  {
   "cell_type": "code",
   "execution_count": 20,
   "metadata": {},
   "outputs": [],
   "source": [
    "decrypt=decryption(encrypted)"
   ]
  },
  {
   "cell_type": "code",
   "execution_count": 22,
   "metadata": {},
   "outputs": [
    {
     "name": "stdout",
     "output_type": "stream",
     "text": [
      "orig_value_uid 4520604198:\n",
      "encryoted_value 4482061950\n",
      "decrypted value for user 4520604198\n"
     ]
    }
   ],
   "source": [
    "print(\"orig_value_uid {}:\".format(uid))\n",
    "print(\"encryoted_value {}\".format(encrypted))\n",
    "print(\"decrypted value for user {}\".format(decrypt))      "
   ]
  },
  {
   "cell_type": "code",
   "execution_count": null,
   "metadata": {},
   "outputs": [],
   "source": []
  }
 ],
 "metadata": {
  "kernelspec": {
   "display_name": "Python 3",
   "language": "python",
   "name": "python3"
  },
  "language_info": {
   "codemirror_mode": {
    "name": "ipython",
    "version": 3
   },
   "file_extension": ".py",
   "mimetype": "text/x-python",
   "name": "python",
   "nbconvert_exporter": "python",
   "pygments_lexer": "ipython3",
   "version": "3.8.3"
  }
 },
 "nbformat": 4,
 "nbformat_minor": 4
}
