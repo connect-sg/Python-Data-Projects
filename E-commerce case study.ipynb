{
 "cells": [
  {
   "cell_type": "markdown",
   "metadata": {},
   "source": [
    "Domain –E-Commerce\n",
    "\n",
    "Focus –Optimization\n",
    "\n",
    "Business challenge/requirement\n",
    "\n",
    "GoodsKart—largest e-commerce company of Indonesia, with revenue of $2B+ has acquired another e-commerce company FairDeal.  FairDeal has its own IT system to maintain the records of customers, sales etc. For ease of maintenance and cost savings, GoodsKart is integrating customer databases of both the organizations hence customer data of FairDeal must be converted in GoodsKart customer data format.Key issuesGoodsKart customer data has more fields than in FairDeal customer data. Hence FairDeal data needs to be split and stored in GoodsKart Customer Object-Oriented Data Structure.\n",
    "\n",
    "Considerations\n",
    "\n",
    "System should convert the data at run time\n",
    "\n",
    "Data volume-NA\n",
    "\n",
    "Additional information-NA\n",
    "\n",
    "Business benefits\n",
    "\n",
    "GoodsKart can eventually restructure IT systems of FairDealand reduce itscost by 20-30% Approach to SolveYou mustuse fundamentals of Python taught in module 3.  \n",
    "\n",
    "1.Read FairDealCustomerData.csv\n",
    "\n",
    "2.Name field contains full name –use regular expression to separate title, first name, last name\n",
    "\n",
    "3.Store the data in Customer Class\n",
    "\n",
    "4.Create Custom Exception –CustomerNotAllowedException\n",
    "\n",
    "5.Pass a customer to function \"createOrder\" and throw CustomerNotAllowedException in case of blacklisted value is 1Enhancements for codeYou can try these enhancements in code\n",
    "\n",
    "1.Change function createOrder to take productname and product code as input\n",
    "\n",
    "2.Create Class OrderReturn object of type Order in case customer is eligible\n"
   ]
  },
  {
   "cell_type": "code",
   "execution_count": 1,
   "metadata": {},
   "outputs": [],
   "source": [
    "import pandas as pd"
   ]
  },
  {
   "cell_type": "code",
   "execution_count": 14,
   "metadata": {},
   "outputs": [],
   "source": [
    "columns_list = ['location','Name','Order']"
   ]
  },
  {
   "cell_type": "code",
   "execution_count": 15,
   "metadata": {},
   "outputs": [],
   "source": [
    "dataset =pd.read_csv('dataset/FairDealCustomerData.csv',names =columns_list)"
   ]
  },
  {
   "cell_type": "code",
   "execution_count": 16,
   "metadata": {},
   "outputs": [
    {
     "data": {
      "text/html": [
       "<div>\n",
       "<style scoped>\n",
       "    .dataframe tbody tr th:only-of-type {\n",
       "        vertical-align: middle;\n",
       "    }\n",
       "\n",
       "    .dataframe tbody tr th {\n",
       "        vertical-align: top;\n",
       "    }\n",
       "\n",
       "    .dataframe thead th {\n",
       "        text-align: right;\n",
       "    }\n",
       "</style>\n",
       "<table border=\"1\" class=\"dataframe\">\n",
       "  <thead>\n",
       "    <tr style=\"text-align: right;\">\n",
       "      <th></th>\n",
       "      <th>location</th>\n",
       "      <th>Name</th>\n",
       "      <th>Order</th>\n",
       "    </tr>\n",
       "  </thead>\n",
       "  <tbody>\n",
       "    <tr>\n",
       "      <th>0</th>\n",
       "      <td>Braund</td>\n",
       "      <td>Mr. Owen Harris</td>\n",
       "      <td>1</td>\n",
       "    </tr>\n",
       "    <tr>\n",
       "      <th>1</th>\n",
       "      <td>Heikkinen</td>\n",
       "      <td>Miss. Laina</td>\n",
       "      <td>0</td>\n",
       "    </tr>\n",
       "    <tr>\n",
       "      <th>2</th>\n",
       "      <td>Allen</td>\n",
       "      <td>Mr. William Henry</td>\n",
       "      <td>0</td>\n",
       "    </tr>\n",
       "    <tr>\n",
       "      <th>3</th>\n",
       "      <td>Moran</td>\n",
       "      <td>Mr. James</td>\n",
       "      <td>0</td>\n",
       "    </tr>\n",
       "    <tr>\n",
       "      <th>4</th>\n",
       "      <td>McCarthy</td>\n",
       "      <td>Mr. Timothy J</td>\n",
       "      <td>0</td>\n",
       "    </tr>\n",
       "    <tr>\n",
       "      <th>...</th>\n",
       "      <td>...</td>\n",
       "      <td>...</td>\n",
       "      <td>...</td>\n",
       "    </tr>\n",
       "    <tr>\n",
       "      <th>527</th>\n",
       "      <td>Banfield</td>\n",
       "      <td>Mr. Frederick James</td>\n",
       "      <td>0</td>\n",
       "    </tr>\n",
       "    <tr>\n",
       "      <th>528</th>\n",
       "      <td>Sutehall</td>\n",
       "      <td>Mr. Henry Jr</td>\n",
       "      <td>0</td>\n",
       "    </tr>\n",
       "    <tr>\n",
       "      <th>529</th>\n",
       "      <td>Montvila</td>\n",
       "      <td>Rev. Juozas</td>\n",
       "      <td>0</td>\n",
       "    </tr>\n",
       "    <tr>\n",
       "      <th>530</th>\n",
       "      <td>Behr</td>\n",
       "      <td>Mr. Karl Howell</td>\n",
       "      <td>0</td>\n",
       "    </tr>\n",
       "    <tr>\n",
       "      <th>531</th>\n",
       "      <td>Dooley</td>\n",
       "      <td>Mr. Patrick</td>\n",
       "      <td>0</td>\n",
       "    </tr>\n",
       "  </tbody>\n",
       "</table>\n",
       "<p>532 rows × 3 columns</p>\n",
       "</div>"
      ],
      "text/plain": [
       "       location                   Name  Order\n",
       "0        Braund       Mr. Owen Harris       1\n",
       "1     Heikkinen           Miss. Laina       0\n",
       "2         Allen     Mr. William Henry       0\n",
       "3         Moran             Mr. James       0\n",
       "4      McCarthy         Mr. Timothy J       0\n",
       "..          ...                    ...    ...\n",
       "527    Banfield   Mr. Frederick James       0\n",
       "528    Sutehall          Mr. Henry Jr       0\n",
       "529    Montvila           Rev. Juozas       0\n",
       "530        Behr       Mr. Karl Howell       0\n",
       "531      Dooley           Mr. Patrick       0\n",
       "\n",
       "[532 rows x 3 columns]"
      ]
     },
     "execution_count": 16,
     "metadata": {},
     "output_type": "execute_result"
    }
   ],
   "source": [
    "dataset"
   ]
  },
  {
   "cell_type": "code",
   "execution_count": 21,
   "metadata": {},
   "outputs": [],
   "source": [
    "tup = dataset.Name.str.split(\" \")"
   ]
  },
  {
   "cell_type": "code",
   "execution_count": null,
   "metadata": {},
   "outputs": [],
   "source": []
  },
  {
   "cell_type": "code",
   "execution_count": null,
   "metadata": {},
   "outputs": [],
   "source": []
  },
  {
   "cell_type": "code",
   "execution_count": null,
   "metadata": {},
   "outputs": [],
   "source": []
  }
 ],
 "metadata": {
  "kernelspec": {
   "display_name": "Python 3",
   "language": "python",
   "name": "python3"
  },
  "language_info": {
   "codemirror_mode": {
    "name": "ipython",
    "version": 3
   },
   "file_extension": ".py",
   "mimetype": "text/x-python",
   "name": "python",
   "nbconvert_exporter": "python",
   "pygments_lexer": "ipython3",
   "version": "3.8.3"
  }
 },
 "nbformat": 4,
 "nbformat_minor": 4
}
