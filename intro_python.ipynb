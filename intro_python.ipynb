{
 "cells": [
  {
   "cell_type": "markdown",
   "metadata": {},
   "source": [
    "# Write a program to find the factors of agiven  number and check whether the factor is even or odd."
   ]
  },
  {
   "cell_type": "code",
   "execution_count": 6,
   "metadata": {},
   "outputs": [],
   "source": [
    "def factor(num):\n",
    "    list_factor =[]\n",
    "    for i in range(1,num+1):\n",
    "        if(num%i==0):\n",
    "            list_factor.append(i)        \n",
    "    print(\"the factors of {} are {}\".format(num,list_factor))       "
   ]
  },
  {
   "cell_type": "code",
   "execution_count": 7,
   "metadata": {},
   "outputs": [
    {
     "name": "stdout",
     "output_type": "stream",
     "text": [
      "the factors of 4 are [1, 2, 4]\n"
     ]
    }
   ],
   "source": [
    "factor(4)"
   ]
  },
  {
   "cell_type": "code",
   "execution_count": 8,
   "metadata": {},
   "outputs": [
    {
     "name": "stdout",
     "output_type": "stream",
     "text": [
      "the factors of 100 are [1, 2, 4, 5, 10, 20, 25, 50, 100]\n"
     ]
    }
   ],
   "source": [
    "factor(100)"
   ]
  },
  {
   "cell_type": "markdown",
   "metadata": {},
   "source": [
    "# Write a code that accepts a sequence of words as input and prints the words in a sequence after sorting them alphabetically."
   ]
  },
  {
   "cell_type": "code",
   "execution_count": 17,
   "metadata": {},
   "outputs": [],
   "source": [
    "def word_seq(sentence):\n",
    "    list_word_seq = sorted(sentence.split(\" \"))\n",
    "    print(list_word_seq)\n",
    "    "
   ]
  },
  {
   "cell_type": "code",
   "execution_count": 19,
   "metadata": {},
   "outputs": [
    {
     "name": "stdout",
     "output_type": "stream",
     "text": [
      "['for', 'function', 'is', 'sentence', 'sorting', 'test', 'the', 'this', 'word_seq']\n"
     ]
    }
   ],
   "source": [
    "word_seq(\"this is the test sentence for word_seq sorting function\")"
   ]
  },
  {
   "cell_type": "code",
   "execution_count": 20,
   "metadata": {},
   "outputs": [
    {
     "name": "stdout",
     "output_type": "stream",
     "text": [
      "['apple', 'cat', 'python', 'yes', 'zero']\n"
     ]
    }
   ],
   "source": [
    "word_seq(\"apple cat zero yes python\")"
   ]
  },
  {
   "cell_type": "markdown",
   "metadata": {},
   "source": [
    "# Write a program that will find all the numbers between 1000 and 3000 (both excluded) such that each digit of a number is an odd number. Print the number of such elements"
   ]
  },
  {
   "cell_type": "code",
   "execution_count": 34,
   "metadata": {},
   "outputs": [],
   "source": [
    "def odd_digit_number(start=1000, end=3000):\n",
    "    odd_digit_no =[]\n",
    "    for i in range(start+1, end):\n",
    "        a = divmod(i,1000)[0]\n",
    "        b =divmod((i%1000),100)[0]\n",
    "        c =divmod((i%100),10)[0]\n",
    "        d=i%10\n",
    "        if (a%2!=0 and b%2!=0 and c%2!=0 and d%2!=0):\n",
    "            odd_digit_no.append(i)\n",
    "    print(odd_digit_no)           \n",
    "            \n",
    "            "
   ]
  },
  {
   "cell_type": "code",
   "execution_count": 35,
   "metadata": {},
   "outputs": [
    {
     "name": "stdout",
     "output_type": "stream",
     "text": [
      "[1111, 1113, 1115, 1117, 1119, 1131, 1133, 1135, 1137, 1139, 1151, 1153, 1155, 1157, 1159, 1171, 1173, 1175, 1177, 1179, 1191, 1193, 1195, 1197, 1199, 1311, 1313, 1315, 1317, 1319, 1331, 1333, 1335, 1337, 1339, 1351, 1353, 1355, 1357, 1359, 1371, 1373, 1375, 1377, 1379, 1391, 1393, 1395, 1397, 1399, 1511, 1513, 1515, 1517, 1519, 1531, 1533, 1535, 1537, 1539, 1551, 1553, 1555, 1557, 1559, 1571, 1573, 1575, 1577, 1579, 1591, 1593, 1595, 1597, 1599, 1711, 1713, 1715, 1717, 1719, 1731, 1733, 1735, 1737, 1739, 1751, 1753, 1755, 1757, 1759, 1771, 1773, 1775, 1777, 1779, 1791, 1793, 1795, 1797, 1799, 1911, 1913, 1915, 1917, 1919, 1931, 1933, 1935, 1937, 1939, 1951, 1953, 1955, 1957, 1959, 1971, 1973, 1975, 1977, 1979, 1991, 1993, 1995, 1997, 1999]\n"
     ]
    }
   ],
   "source": [
    "odd_digit_number()"
   ]
  },
  {
   "cell_type": "markdown",
   "metadata": {},
   "source": [
    "# Write a program that accepts a stringand calculatesthe number of letters and digits.\n",
    "Suppose if the entered string is: Edureka123\n",
    "Then the output will be:\n",
    "LETTERS: -7\n",
    "DIGITS: -3"
   ]
  },
  {
   "cell_type": "code",
   "execution_count": 77,
   "metadata": {},
   "outputs": [],
   "source": [
    "def count_letter_digit(inputstr):\n",
    "    letters = 0\n",
    "    digits =0\n",
    "    \n",
    "    for i in inputstr:\n",
    "        if(i.isdigit()):\n",
    "            digits+=1\n",
    "        elif(i.isalpha()):\n",
    "            letters+=1        \n",
    "    print(\"In word {} the numbers of letters are {} and numbers of digits are {}\".format(inputstr, letters, digits))        \n",
    "            \n",
    "        "
   ]
  },
  {
   "cell_type": "code",
   "execution_count": 78,
   "metadata": {},
   "outputs": [
    {
     "name": "stdout",
     "output_type": "stream",
     "text": [
      "In word qwerty123 the numbers of letters are 6 and numbers of digits are 3\n"
     ]
    }
   ],
   "source": [
    "count_letter_digit(\"qwerty123\")"
   ]
  },
  {
   "cell_type": "markdown",
   "metadata": {},
   "source": [
    "# Design a code which will find whether the given number is Palindrome number or not.\n"
   ]
  },
  {
   "cell_type": "code",
   "execution_count": 79,
   "metadata": {},
   "outputs": [],
   "source": [
    " def palindrome(num):\n",
    "        num =str(num)\n",
    "        num_rev=num[::-1]\n",
    "        if (num==num_rev):\n",
    "            print(\"{} is palindrome\".format(num))\n",
    "        else:\n",
    "            print(\"{} is not palindrome\".format(num))"
   ]
  },
  {
   "cell_type": "code",
   "execution_count": 80,
   "metadata": {},
   "outputs": [
    {
     "name": "stdout",
     "output_type": "stream",
     "text": [
      "121 is palindrome\n"
     ]
    }
   ],
   "source": [
    "palindrome(121)"
   ]
  },
  {
   "cell_type": "code",
   "execution_count": 81,
   "metadata": {},
   "outputs": [
    {
     "name": "stdout",
     "output_type": "stream",
     "text": [
      "144 is not palindrome\n"
     ]
    }
   ],
   "source": [
    "palindrome(144)"
   ]
  },
  {
   "cell_type": "code",
   "execution_count": null,
   "metadata": {},
   "outputs": [],
   "source": []
  }
 ],
 "metadata": {
  "kernelspec": {
   "display_name": "Python 3",
   "language": "python",
   "name": "python3"
  },
  "language_info": {
   "codemirror_mode": {
    "name": "ipython",
    "version": 3
   },
   "file_extension": ".py",
   "mimetype": "text/x-python",
   "name": "python",
   "nbconvert_exporter": "python",
   "pygments_lexer": "ipython3",
   "version": "3.8.3"
  }
 },
 "nbformat": 4,
 "nbformat_minor": 4
}
