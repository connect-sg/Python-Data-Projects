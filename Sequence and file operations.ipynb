{
 "cells": [
  {
   "cell_type": "markdown",
   "metadata": {},
   "source": [
    "# Author: Siddharth Gehlot\n",
    "Email: siddharthgehlot@outlook.com\n",
    "Content: Sequence and file opeartions"
   ]
  },
  {
   "cell_type": "markdown",
   "metadata": {},
   "source": [
    "# Smith wishesto register in a ticket booking website for booking bus tickets. For authenticate theregistration, he needs to provide user-id and password. There are some built-in rules for checking the validity of the passwords entered by the users.\n",
    "Following are the rulesfor checkingthe validity of a password:\n",
    "i.At least 1 alphabet\n",
    "ii.At least 1 digitbetween [0-9]\n",
    "iii.At least 1 character from [@&]\n",
    "iv.Minimum length of transaction password: 5\n",
    "v.Maximum length of transaction password: 10"
   ]
  },
  {
   "cell_type": "code",
   "execution_count": 5,
   "metadata": {},
   "outputs": [],
   "source": [
    "def valid_password(password):\n",
    "    alpha =0 \n",
    "    digit =0\n",
    "    special =0\n",
    "    pwd =False\n",
    "    for i in password:\n",
    "        if(i.isalpha()):\n",
    "           alpha+=1 \n",
    "        if(i.isdigit()):       \n",
    "            digit+=1\n",
    "        if(i in ['@','&']):\n",
    "            special+=1\n",
    "    if(len(password)>=5 and len(password)<10):\n",
    "            pwd =True\n",
    "            \n",
    "    if(alpha>0 and digit>0 and special>0 and pwd ==True):\n",
    "        print(\"password is valid\")\n",
    "    else:\n",
    "        print(\"password does not satisfy all the requriements and needs to be updated\")\n",
    "           "
   ]
  },
  {
   "cell_type": "code",
   "execution_count": 6,
   "metadata": {},
   "outputs": [
    {
     "name": "stdout",
     "output_type": "stream",
     "text": [
      "password does not satisfy all the requriements and needs to be updated\n"
     ]
    }
   ],
   "source": [
    "valid_password(\"sidddd\")"
   ]
  },
  {
   "cell_type": "code",
   "execution_count": 7,
   "metadata": {},
   "outputs": [
    {
     "name": "stdout",
     "output_type": "stream",
     "text": [
      "password is valid\n"
     ]
    }
   ],
   "source": [
    "valid_password(\"sid&01\")"
   ]
  },
  {
   "cell_type": "markdown",
   "metadata": {},
   "source": [
    "# Write a program forprintingall elements of a list and theirindexes inthe list.Take the list as a user input."
   ]
  },
  {
   "cell_type": "code",
   "execution_count": 33,
   "metadata": {},
   "outputs": [
    {
     "name": "stdout",
     "output_type": "stream",
     "text": [
      "enter list values:this\n",
      "enter list values:is \n",
      "enter list values:the sample\n",
      "enter list values:test \n",
      "enter list values:for user input\n"
     ]
    }
   ],
   "source": [
    "sample_list=[]\n",
    "#lets create a list of length 5\n",
    "while(len(sample_list)<5):\n",
    "  sample_list.append(input(\"enter list values:\"))"
   ]
  },
  {
   "cell_type": "code",
   "execution_count": 35,
   "metadata": {},
   "outputs": [
    {
     "name": "stdout",
     "output_type": "stream",
     "text": [
      "value:this          index:0\n",
      "value:is           index:1\n",
      "value:the sample          index:2\n",
      "value:test           index:3\n",
      "value:for user input          index:4\n"
     ]
    }
   ],
   "source": [
    "for i in sample_list:\n",
    "    print(\"value:{}          index:{}\".format(i,sample_list.index(i)))"
   ]
  },
  {
   "cell_type": "markdown",
   "metadata": {},
   "source": [
    "# Write a program which accepts a string from the console and print the characters that have even indexes if the character is an alphabet. Concatenate the characters and print.\n",
    "Example: If the following string is given as input to the program:Ed12ur3ka1Python12\n",
    "\n",
    "Then, the output of the program should be:EuaPto"
   ]
  },
  {
   "cell_type": "code",
   "execution_count": 43,
   "metadata": {},
   "outputs": [
    {
     "name": "stdout",
     "output_type": "stream",
     "text": [
      "enter the string here:Ed12ur3ka1Python12\n",
      "EuaPto\n"
     ]
    }
   ],
   "source": [
    "sample_string = input (\"enter the string here:\")\n",
    "string =\"\"\n",
    "for i in range(0,len(sample_string),2):\n",
    "    if(sample_string[i].isalpha()):\n",
    "        string+=sample_string[i]\n",
    "print(string) \n",
    "        "
   ]
  },
  {
   "cell_type": "markdown",
   "metadata": {},
   "source": [
    "# Please write a program which accepts a string from console and print it in reverse order.\n",
    "Example: If the following string is given as input to the program: welcome to edureka\n",
    "\n",
    "Then, the output of the program should be:akerude ot emoclew"
   ]
  },
  {
   "cell_type": "code",
   "execution_count": 51,
   "metadata": {},
   "outputs": [
    {
     "name": "stdout",
     "output_type": "stream",
     "text": [
      "enter the string here:welcome to edureka\n"
     ]
    }
   ],
   "source": [
    "string = input(\"enter the string here:\")\n",
    "string_reverse =string[::-1]"
   ]
  },
  {
   "cell_type": "code",
   "execution_count": 52,
   "metadata": {},
   "outputs": [
    {
     "name": "stdout",
     "output_type": "stream",
     "text": [
      "akerude ot emoclew\n"
     ]
    }
   ],
   "source": [
    "print(string_reverse)"
   ]
  },
  {
   "cell_type": "markdown",
   "metadata": {},
   "source": [
    "# Please write a program which countsand printsthe numbers of each character in a string input bytheconsole.\n",
    "\n",
    "Example: If the following string is given as input to the program:abcdefgabcThen, \n",
    "the output of the program should be:a,2\n",
    "\n",
    "c,2\n",
    "\n",
    "b,2\n",
    "\n",
    "e,1\n",
    "\n",
    "d,1\n",
    "\n",
    "g,1\n",
    "\n",
    "f,1"
   ]
  },
  {
   "cell_type": "code",
   "execution_count": 68,
   "metadata": {},
   "outputs": [
    {
     "name": "stdout",
     "output_type": "stream",
     "text": [
      "enter the string here :abcdefgabc\n",
      "{'a': 2, 'b': 2, 'c': 2, 'd': 1, 'e': 1, 'f': 1, 'g': 1}\n"
     ]
    }
   ],
   "source": [
    "input_string = input(\"enter the string here :\")\n",
    "set_value = sorted(set(input_string))\n",
    "dictionary = {}\n",
    "for i in set_value:\n",
    "    dictionary[i]=0\n",
    "for i in input_string:\n",
    "    dictionary[i]+=1\n",
    "print(dictionary)    \n",
    "        \n",
    "      \n",
    "    "
   ]
  },
  {
   "cell_type": "markdown",
   "metadata": {},
   "source": [
    "# Given: Lists [1,5,10,12,34,13] and [4,7,8,10,5,13,24]. With the above give lists, write a program tocreate a newlist whose elements are intersection of the above given lists."
   ]
  },
  {
   "cell_type": "code",
   "execution_count": 71,
   "metadata": {},
   "outputs": [
    {
     "name": "stdout",
     "output_type": "stream",
     "text": [
      "[5, 10, 13]\n"
     ]
    }
   ],
   "source": [
    "list1 = [1,5,10,12,34,13]\n",
    "list2 = [4,7,8,10,5,13,24]\n",
    "new_list=[]\n",
    "for i in list1:\n",
    "    for j in list2:\n",
    "        if(i==j):\n",
    "            new_list.append(i)\n",
    "print(new_list)            "
   ]
  },
  {
   "cell_type": "markdown",
   "metadata": {},
   "source": [
    "# By using list comprehension, please write a program to print the list after removing the values which are divisible by 6in [12,24,35,24,88,120,155]."
   ]
  },
  {
   "cell_type": "code",
   "execution_count": 75,
   "metadata": {},
   "outputs": [],
   "source": [
    "list1 = [12,24,35,24,88,120,155]\n",
    "list2 = [x for x in list1 if x%6==0]"
   ]
  },
  {
   "cell_type": "code",
   "execution_count": 76,
   "metadata": {},
   "outputs": [
    {
     "name": "stdout",
     "output_type": "stream",
     "text": [
      "[12, 24, 24, 120]\n"
     ]
    }
   ],
   "source": [
    "print(list2)"
   ]
  },
  {
   "cell_type": "markdown",
   "metadata": {},
   "source": [
    "# By using list comprehension, please write a program to print the list after removing the 1st,3rd,5thnumbers in [12,24,35,70,88,120,155]"
   ]
  },
  {
   "cell_type": "code",
   "execution_count": 78,
   "metadata": {},
   "outputs": [],
   "source": [
    "list1 = [12,24,35,70,88,120,155]\n",
    "list2 = [x for x in list1 if list1.index(x) not in [1,3,5]]"
   ]
  },
  {
   "cell_type": "code",
   "execution_count": 81,
   "metadata": {},
   "outputs": [
    {
     "name": "stdout",
     "output_type": "stream",
     "text": [
      "[12, 35, 88, 155]\n"
     ]
    }
   ],
   "source": [
    "print(list2)"
   ]
  },
  {
   "cell_type": "markdown",
   "metadata": {},
   "source": [
    "# Please  write  a  program  to  randomly  generate  a  list  with 6numbers,  which  are divisible by 5 and 7, between 1 and 1500 inclusive"
   ]
  },
  {
   "cell_type": "code",
   "execution_count": 80,
   "metadata": {},
   "outputs": [],
   "source": [
    "list1 = [x for x in range(1,1501) if x%5==0 and x%7==0]"
   ]
  },
  {
   "cell_type": "code",
   "execution_count": 82,
   "metadata": {},
   "outputs": [
    {
     "name": "stdout",
     "output_type": "stream",
     "text": [
      "[35, 70, 105, 140, 175, 210, 245, 280, 315, 350, 385, 420, 455, 490, 525, 560, 595, 630, 665, 700, 735, 770, 805, 840, 875, 910, 945, 980, 1015, 1050, 1085, 1120, 1155, 1190, 1225, 1260, 1295, 1330, 1365, 1400, 1435, 1470]\n"
     ]
    }
   ],
   "source": [
    "print(list1)"
   ]
  },
  {
   "cell_type": "markdown",
   "metadata": {},
   "source": [
    "# Write  a  program  to  compute  1/2+2/3+3/4+...+n/n+1  with  a  given  n  input  by console (n>0).Example:If the following n is given as input to the program:5Then, the output of the programshould be:3.55"
   ]
  },
  {
   "cell_type": "code",
   "execution_count": 92,
   "metadata": {},
   "outputs": [],
   "source": [
    "def sum_ratio(num):\n",
    "    if (num>0): \n",
    "        value =0\n",
    "        for i in range(1,num+1):\n",
    "            value = (i/(i+1)) +value\n",
    "    else:\n",
    "        print(\"enter a number greater than zero\")\n",
    "    print(\"the sum of ratio for num {} is {}\".format(num,value))      "
   ]
  },
  {
   "cell_type": "code",
   "execution_count": 93,
   "metadata": {},
   "outputs": [
    {
     "name": "stdout",
     "output_type": "stream",
     "text": [
      "the sum of ratio for num 5 is 3.5500000000000003\n"
     ]
    }
   ],
   "source": [
    "sum_ratio(5)"
   ]
  },
  {
   "cell_type": "code",
   "execution_count": null,
   "metadata": {},
   "outputs": [],
   "source": []
  }
 ],
 "metadata": {
  "kernelspec": {
   "display_name": "Python 3",
   "language": "python",
   "name": "python3"
  },
  "language_info": {
   "codemirror_mode": {
    "name": "ipython",
    "version": 3
   },
   "file_extension": ".py",
   "mimetype": "text/x-python",
   "name": "python",
   "nbconvert_exporter": "python",
   "pygments_lexer": "ipython3",
   "version": "3.8.3"
  }
 },
 "nbformat": 4,
 "nbformat_minor": 4
}
